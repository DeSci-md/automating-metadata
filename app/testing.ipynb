{
 "cells": [
  {
   "cell_type": "code",
   "execution_count": 1,
   "metadata": {},
   "outputs": [],
   "source": [
    "import requests\n",
    "from pyalex import Works #, Authors, Sources, Institutions, Concepts, Publishers, Funders\n",
    "import pyalex\n",
    "import PyPDF2"
   ]
  },
  {
   "cell_type": "code",
   "execution_count": 8,
   "metadata": {},
   "outputs": [
    {
     "name": "stdout",
     "output_type": "stream",
     "text": [
      "Error fetching PDF: 400\n",
      "Failed to fetch the PDF.\n"
     ]
    }
   ],
   "source": [
    "def get_oa_pdf(doi):\n",
    "    \"\"\"\n",
    "    Fetches the Open Access PDF for a given DOI.\n",
    "    \n",
    "    Args:\n",
    "        doi (str): The DOI of the research work.\n",
    "    \n",
    "    Returns:\n",
    "        bytes: The PDF file content, or None if the work is not Open Access or an error occurred.\n",
    "    \"\"\"\n",
    "    # Step 1: Get the work object from OpenAlex API\n",
    "    pyalex.config.email = \"ellie@desci.com\"\n",
    "\n",
    "    openalex = True\n",
    "\n",
    "    try:\n",
    "        openalex_results = Works()[doi]  # Crossref search using DOI, \"r\" for request\n",
    "    except requests.exceptions.HTTPError as e:\n",
    "        print(f\"OpenAlex DOI lookup returned error: {e}\\n\")\n",
    "        openalex = False\n",
    "\n",
    "    # Step 2: Check if the work is Open Access\n",
    "    if openalex and openalex_results['open_access']['is_oa']: \n",
    "        oa_url = openalex_results['open_access']['oa_url']\n",
    "        pdf_response = requests.get(oa_url)\n",
    "        if pdf_response.status_code == 200:\n",
    "            return pdf_response.content\n",
    "        else:\n",
    "            print(f\"Error fetching PDF: {pdf_response.status_code}\")\n",
    "    else:\n",
    "        print(\"The work is not Open Access.\")\n",
    "    \n",
    "    return None\n",
    "\n",
    "        \n",
    "\n",
    "# Example usage\n",
    "doi = \"https://doi.org/10.7717/peerj.4375\"\n",
    "pdf_content = get_oa_pdf(doi)\n",
    "\n",
    "if pdf_content:\n",
    "    # Save the PDF content to a file\n",
    "    with open(\"research_paper.pdf\", \"wb\") as pdf_file:\n",
    "        pdf_file.write(pdf_content)\n",
    "    print(\"PDF saved successfully.\")\n",
    "else:\n",
    "    print(\"Failed to fetch the PDF.\")"
   ]
  }
 ],
 "metadata": {
  "kernelspec": {
   "display_name": "venv",
   "language": "python",
   "name": "python3"
  },
  "language_info": {
   "codemirror_mode": {
    "name": "ipython",
    "version": 3
   },
   "file_extension": ".py",
   "mimetype": "text/x-python",
   "name": "python",
   "nbconvert_exporter": "python",
   "pygments_lexer": "ipython3",
   "version": "3.10.13"
  }
 },
 "nbformat": 4,
 "nbformat_minor": 2
}
